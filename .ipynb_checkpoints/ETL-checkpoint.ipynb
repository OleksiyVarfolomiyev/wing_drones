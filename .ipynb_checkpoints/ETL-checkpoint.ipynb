{
 "cells": [
  {
   "cell_type": "code",
   "execution_count": 1,
   "metadata": {},
   "outputs": [
    {
     "name": "stdout",
     "output_type": "stream",
     "text": [
      "importing Jupyter notebook from data_aggregation_tools.ipynb\n"
     ]
    }
   ],
   "source": [
    "import pandas as pd\n",
    "import import_ipynb\n",
    "import data_aggregation_tools as da"
   ]
  },
  {
   "cell_type": "code",
   "execution_count": 2,
   "metadata": {},
   "outputs": [],
   "source": [
    "def format_money(value):\n",
    "    if abs(value) >= 1e6:\n",
    "        return '{:.2f}M'.format(value / 1e6)\n",
    "    elif abs(value) >= 1e3:\n",
    "        return '{:.2f}K'.format(value / 1e3)\n",
    "    else:\n",
    "        return '{:.2f}'.format(value)"
   ]
  },
  {
   "cell_type": "code",
   "execution_count": 3,
   "metadata": {},
   "outputs": [],
   "source": [
    "def read_txs():\n",
    "    dtypes = { 'UAH': 'float64', 'Category': 'str' }\n",
    "    df = pd.read_csv('data/donations.csv', dtype=dtypes, parse_dates=['Date'])\n",
    "    ds = pd.read_csv('data/spending.csv', dtype=dtypes, parse_dates=['Date'])\n",
    "    return df, ds"
   ]
  },
  {
   "cell_type": "code",
   "execution_count": 4,
   "metadata": {},
   "outputs": [],
   "source": [
    "def read_data(nrows = None):\n",
    "      if nrows:\n",
    "            df = pd.read_excel('./data/ExportEN.xlsx', sheet_name = 'ExportEN', index_col=None, \n",
    "                  usecols = 'A, F, G, H, I, J, N',\n",
    "                  names=['Date', 'UAH', 'From Account', 'To Account', \n",
    "                        'Category', 'Subcategory', 'Commentary'], nrows=nrows\n",
    "                  )\n",
    "      else:\n",
    "            df = pd.read_excel('./data/ExportEN.xlsx', sheet_name = 'ExportEN', index_col=None, \n",
    "                  usecols = 'A, F, G, H, I, J, N',\n",
    "                  names=['Date', 'UAH', 'From Account', 'To Account', \n",
    "                        'Category', 'Subcategory', 'Commentary'] \n",
    "                  )\n",
    "      # spending\n",
    "      ds = df[df['From Account'].notna()]; ds = ds.drop(['To Account', 'From Account'], axis=1) \n",
    "\n",
    "      # donations\n",
    "      df = df[df['To Account'].notna()]; df = df.drop(['From Account', 'To Account'], axis=1)\n",
    "      return df, ds"
   ]
  },
  {
   "cell_type": "code",
   "execution_count": 5,
   "metadata": {},
   "outputs": [],
   "source": [
    "def convert_to_USD(df, UA_USD_exchange_rate):\n",
    "    df['UAH'] = df['UAH']/UA_USD_exchange_rate\n",
    "    return df"
   ]
  },
  {
   "cell_type": "code",
   "execution_count": 6,
   "metadata": {},
   "outputs": [],
   "source": [
    "def replace_category(data, column, value):\n",
    "    \"\"\"Replace Category with Subcategory\"\"\"\n",
    "    df_copy = data.copy()  # Create a copy of the DataFrame to avoid modifying the original\n",
    "    df_copy.loc[df_copy[column] == value, 'Category'] = df_copy['Subcategory']\n",
    "    return df_copy"
   ]
  },
  {
   "cell_type": "code",
   "execution_count": 7,
   "metadata": {},
   "outputs": [],
   "source": [
    "def replace_category_values(data, category_column, val1, val2):\n",
    "    \"\"\"Mapping of Category values\"\"\"\n",
    "    df_copy = data.copy()\n",
    "    df_copy[category_column] = df_copy[category_column].replace(val1, val2)\n",
    "    return df_copy"
   ]
  },
  {
   "cell_type": "code",
   "execution_count": 8,
   "metadata": {},
   "outputs": [],
   "source": [
    "def extract_relevant_txs(df, ds, start_date, end_date):\n",
    "    \"\"\"Main category mapping module\"\"\"\n",
    "    if (start_date != None) | (end_date != None):\n",
    "        df = df[df['Date'].dt.date >= start_date.date()]\n",
    "        ds = ds[ds['Date'].dt.date >= start_date.date()]\n",
    "        df = df[df['Date'].dt.date <= end_date.date()]\n",
    "        ds = ds[ds['Date'].dt.date <= end_date.date()]\n",
    "    \n",
    "    df = df[df['Category'] != 'Transfer']   \n",
    "    ds = ds[ds['Category'] != 'Продаж валюти']\n",
    "    ds = ds[ds['Category'] != 'Transfer']\n",
    "    ds = replace_category(ds, 'Category', 'Закупівлі')\n",
    "    df = replace_category(df, 'Category', 'Донати')\n",
    "    df = replace_category(df, 'Category', 'Гранти')\n",
    "    df = replace_category(df, 'Category', 'Income categories')\n",
    "    df = replace_category(df, 'Category', 'Загальні донати')\n",
    "    \n",
    "    old_values = ['Taxes', 'ремонт Авто', 'Юридичні послуги', 'Salary', 'Suppliers and Contractors']\n",
    "    ds = replace_category_values(ds, 'Category', old_values, 'Адмін')\n",
    "    df = replace_category_values(df, 'Category', 'Донати Вей Фор Пей', 'Загальні донати')\n",
    "    \n",
    "    df = df.drop(['Subcategory'], axis=1)\n",
    "    ds = ds.drop(['Subcategory'], axis=1)\n",
    "    \n",
    "    df['Category'] = df['Category'].str.replace('Донати ', '')\n",
    "    df['Category'] = df['Category'].str.replace('Адмін Донати', 'Адмін')\n",
    "    ds['Category'] = ds['Category'].str.replace('техніки Літай', 'Літай')\n",
    "    ds['Category'] = ds['Category'].str.replace('Закупівлі на захисті краси', 'На захисті краси України')\n",
    "    ds['Category'] = ds['Category'].str.replace('Закупівля ', '')\n",
    "    ds['Category'] = ds['Category'].str.replace('Дрони Люті пташки', 'Люті пташки')\n",
    "    ds['Category'] = ds['Category'].str.replace('Адміністративні витрати', 'Адмін')\n",
    "    df['Category'] = df['Category'].str.replace('Грант МЛПК', 'МЛПК')\n",
    "    ds['Category'] = ds['Category'].str.replace('Suppliers and Contractors', 'Адмін')\n",
    "\n",
    "    values_to_check = ['Лопати', 'Антени', 'Піротехніка', 'Планшети']\n",
    "    condition = ds['Category'].str.contains('|'.join(values_to_check), case=False)\n",
    "    ds.loc[condition, 'Category'] = 'Лопати + Антени + Піротехніка + Планшети'\n",
    "    df.to_csv('data/donations.csv', index=False)\n",
    "    ds.to_csv('data/spending.csv', index=False)\n",
    "\n",
    "    return df, ds\n"
   ]
  },
  {
   "cell_type": "code",
   "execution_count": 9,
   "metadata": {},
   "outputs": [],
   "source": [
    "def extract_top_donors(large_donations, amount):\n",
    "    \n",
    "    # remove numbers from the Commentary\n",
    "    large_donations['Commentary'] = large_donations['Commentary'].str.replace(r'\\d+', '', regex=True)\n",
    "    large_donations = large_donations[~large_donations.apply(lambda row: row.astype(str).str.contains('продажу валюти').any(), axis=1)]\n",
    "    large_donations = large_donations[~large_donations.apply(lambda row: row.astype(str).str.contains('Луценко Ігор Вікторович').any(), axis=1)]\n",
    "    # extract donor names from the Commentary\n",
    "    mask = large_donations['Commentary'].str.contains('РУШ', na=False)\n",
    "    large_donations.loc[mask, 'Commentary'] = 'eva.ua'\n",
    "    mask = large_donations['Commentary'].str.contains('КОНСАЛТИНГОВА ГРУПА', na=False)\n",
    "    large_donations.loc[mask, 'Commentary'] = 'КОНСАЛТИНГОВА ГРУПА \\\"A-95\\\"'\n",
    "    mask = large_donations['Commentary'].str.contains('UNITED HELP UKRAINE', na=False)\n",
    "    large_donations.loc[mask, 'Commentary'] = 'UNITED HELP UKRAINE'\n",
    "    mask = large_donations['Commentary'].str.contains('АМІК УКРАЇНА', na=False)\n",
    "    large_donations.loc[mask, 'Commentary'] = 'АМІК УКРАЇНА'\n",
    "    mask = large_donations['Commentary'].str.contains('Торгович Оксана Станіславівна', na=False)\n",
    "    large_donations.loc[mask, 'Commentary'] = 'Приват Банк'\n",
    "    # sum donations by donor\n",
    "    top_donors = pd.DataFrame(large_donations.groupby('Commentary')['UAH'].sum())\n",
    "    # filter over 1M UAH donors\n",
    "    top_donors = top_donors[top_donors['UAH'] >= amount]\n",
    "    top_donors = top_donors.sort_values('UAH', ascending = False)\n",
    "    top_donors = pd.DataFrame(top_donors['UAH'].apply(format_money))\n",
    "    top_donors = top_donors.reset_index().rename(columns={'Commentary': 'Top Donors'})\n",
    "\n",
    "    return top_donors\n",
    "    "
   ]
  }
 ],
 "metadata": {
  "kernelspec": {
   "display_name": "Python 3 (ipykernel)",
   "language": "python",
   "name": "python3"
  },
  "language_info": {
   "codemirror_mode": {
    "name": "ipython",
    "version": 3
   },
   "file_extension": ".py",
   "mimetype": "text/x-python",
   "name": "python",
   "nbconvert_exporter": "python",
   "pygments_lexer": "ipython3",
   "version": "3.10.9"
  }
 },
 "nbformat": 4,
 "nbformat_minor": 2
}
